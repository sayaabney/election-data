{
 "cells": [
  {
   "cell_type": "code",
   "execution_count": 1,
   "metadata": {},
   "outputs": [],
   "source": [
    "import json\n",
    "import zipfile\n",
    "import os\n",
    "import numpy as np\n",
    "import pandas as pd\n",
    "import matplotlib\n",
    "import matplotlib.pyplot as plt"
   ]
  },
  {
   "cell_type": "code",
   "execution_count": 2,
   "metadata": {},
   "outputs": [],
   "source": [
    "from pathlib import Path\n",
    "data_dir = Path('.')\n",
    "data_dir.mkdir(exist_ok = True)\n",
    "file_path = data_dir / Path('CVR1.zip')\n",
    "dest_path = file_path"
   ]
  },
  {
   "cell_type": "code",
   "execution_count": 3,
   "metadata": {},
   "outputs": [],
   "source": [
    "zip_1 = zipfile.ZipFile(dest_path, 'r')\n",
    "with zip_1.open('CvrExport.json') as cvr_1:\n",
    "    cvr_exp = pd.read_json(cvr_1)"
   ]
  },
  {
   "cell_type": "code",
   "execution_count": 4,
   "metadata": {},
   "outputs": [
    {
     "data": {
      "text/html": [
       "<div>\n",
       "<style scoped>\n",
       "    .dataframe tbody tr th:only-of-type {\n",
       "        vertical-align: middle;\n",
       "    }\n",
       "\n",
       "    .dataframe tbody tr th {\n",
       "        vertical-align: top;\n",
       "    }\n",
       "\n",
       "    .dataframe thead th {\n",
       "        text-align: right;\n",
       "    }\n",
       "</style>\n",
       "<table border=\"1\" class=\"dataframe\">\n",
       "  <thead>\n",
       "    <tr style=\"text-align: right;\">\n",
       "      <th></th>\n",
       "      <th>Version</th>\n",
       "      <th>ElectionId</th>\n",
       "      <th>Sessions</th>\n",
       "    </tr>\n",
       "  </thead>\n",
       "  <tbody>\n",
       "    <tr>\n",
       "      <th>0</th>\n",
       "      <td>5.5.12.1</td>\n",
       "      <td>Bartow Nov 2020 General</td>\n",
       "      <td>{'TabulatorId': 530, 'BatchId': 1, 'RecordId':...</td>\n",
       "    </tr>\n",
       "    <tr>\n",
       "      <th>1</th>\n",
       "      <td>5.5.12.1</td>\n",
       "      <td>Bartow Nov 2020 General</td>\n",
       "      <td>{'TabulatorId': 530, 'BatchId': 1, 'RecordId':...</td>\n",
       "    </tr>\n",
       "    <tr>\n",
       "      <th>2</th>\n",
       "      <td>5.5.12.1</td>\n",
       "      <td>Bartow Nov 2020 General</td>\n",
       "      <td>{'TabulatorId': 530, 'BatchId': 1, 'RecordId':...</td>\n",
       "    </tr>\n",
       "    <tr>\n",
       "      <th>3</th>\n",
       "      <td>5.5.12.1</td>\n",
       "      <td>Bartow Nov 2020 General</td>\n",
       "      <td>{'TabulatorId': 530, 'BatchId': 1, 'RecordId':...</td>\n",
       "    </tr>\n",
       "    <tr>\n",
       "      <th>4</th>\n",
       "      <td>5.5.12.1</td>\n",
       "      <td>Bartow Nov 2020 General</td>\n",
       "      <td>{'TabulatorId': 530, 'BatchId': 1, 'RecordId':...</td>\n",
       "    </tr>\n",
       "  </tbody>\n",
       "</table>\n",
       "</div>"
      ],
      "text/plain": [
       "    Version               ElectionId  \\\n",
       "0  5.5.12.1  Bartow Nov 2020 General   \n",
       "1  5.5.12.1  Bartow Nov 2020 General   \n",
       "2  5.5.12.1  Bartow Nov 2020 General   \n",
       "3  5.5.12.1  Bartow Nov 2020 General   \n",
       "4  5.5.12.1  Bartow Nov 2020 General   \n",
       "\n",
       "                                            Sessions  \n",
       "0  {'TabulatorId': 530, 'BatchId': 1, 'RecordId':...  \n",
       "1  {'TabulatorId': 530, 'BatchId': 1, 'RecordId':...  \n",
       "2  {'TabulatorId': 530, 'BatchId': 1, 'RecordId':...  \n",
       "3  {'TabulatorId': 530, 'BatchId': 1, 'RecordId':...  \n",
       "4  {'TabulatorId': 530, 'BatchId': 1, 'RecordId':...  "
      ]
     },
     "execution_count": 4,
     "metadata": {},
     "output_type": "execute_result"
    }
   ],
   "source": [
    "cvr_exp.head()"
   ]
  },
  {
   "cell_type": "code",
   "execution_count": 5,
   "metadata": {},
   "outputs": [
    {
     "data": {
      "text/plain": [
       "152034"
      ]
     },
     "execution_count": 5,
     "metadata": {},
     "output_type": "execute_result"
    }
   ],
   "source": [
    "cvr_exp.size"
   ]
  },
  {
   "cell_type": "code",
   "execution_count": 53,
   "metadata": {},
   "outputs": [
    {
     "data": {
      "text/plain": [
       "0    {'TabulatorId': 530, 'BatchId': 1, 'RecordId':...\n",
       "1    {'TabulatorId': 530, 'BatchId': 1, 'RecordId':...\n",
       "2    {'TabulatorId': 530, 'BatchId': 1, 'RecordId':...\n",
       "3    {'TabulatorId': 530, 'BatchId': 1, 'RecordId':...\n",
       "4    {'TabulatorId': 530, 'BatchId': 1, 'RecordId':...\n",
       "Name: Sessions, dtype: object"
      ]
     },
     "execution_count": 53,
     "metadata": {},
     "output_type": "execute_result"
    }
   ],
   "source": [
    "cvr_sessions = cvr_exp['Sessions']\n",
    "unit_dict = cvr_sessions[0]\n",
    "cvr_sessions.head()"
   ]
  },
  {
   "cell_type": "code",
   "execution_count": 54,
   "metadata": {},
   "outputs": [
    {
     "data": {
      "text/plain": [
       "True"
      ]
     },
     "execution_count": 54,
     "metadata": {},
     "output_type": "execute_result"
    }
   ],
   "source": [
    "##Sanity check to make sure cvr_sessions is a series of nested dictionaries\n",
    "isinstance(unit_dict, dict)"
   ]
  },
  {
   "cell_type": "code",
   "execution_count": 55,
   "metadata": {},
   "outputs": [
    {
     "data": {
      "text/plain": [
       "True"
      ]
     },
     "execution_count": 55,
     "metadata": {},
     "output_type": "execute_result"
    }
   ],
   "source": [
    "##Sorting through to the list of contests, checking type is list for each contest\n",
    "isinstance(unit_dict['Original']['Cards'][0]['Contests'], list)"
   ]
  },
  {
   "cell_type": "code",
   "execution_count": 67,
   "metadata": {},
   "outputs": [
    {
     "data": {
      "text/html": [
       "<div>\n",
       "<style scoped>\n",
       "    .dataframe tbody tr th:only-of-type {\n",
       "        vertical-align: middle;\n",
       "    }\n",
       "\n",
       "    .dataframe tbody tr th {\n",
       "        vertical-align: top;\n",
       "    }\n",
       "\n",
       "    .dataframe thead th {\n",
       "        text-align: right;\n",
       "    }\n",
       "</style>\n",
       "<table border=\"1\" class=\"dataframe\">\n",
       "  <thead>\n",
       "    <tr style=\"text-align: right;\">\n",
       "      <th></th>\n",
       "      <th>TabulatorId</th>\n",
       "      <th>BatchId</th>\n",
       "      <th>RecordId</th>\n",
       "      <th>CountingGroupId</th>\n",
       "      <th>SessionType</th>\n",
       "      <th>PrecinctPortionId</th>\n",
       "      <th>BallotTypeId</th>\n",
       "      <th>IsCurrent</th>\n",
       "      <th>Id</th>\n",
       "      <th>PaperIndex</th>\n",
       "      <th>OutstackConditionIds</th>\n",
       "    </tr>\n",
       "  </thead>\n",
       "  <tbody>\n",
       "    <tr>\n",
       "      <th>0</th>\n",
       "      <td>530</td>\n",
       "      <td>1</td>\n",
       "      <td>23</td>\n",
       "      <td>3</td>\n",
       "      <td>ScannedVote</td>\n",
       "      <td>4</td>\n",
       "      <td>4</td>\n",
       "      <td>True</td>\n",
       "      <td>21</td>\n",
       "      <td>0</td>\n",
       "      <td>[]</td>\n",
       "    </tr>\n",
       "  </tbody>\n",
       "</table>\n",
       "</div>"
      ],
      "text/plain": [
       "  TabulatorId BatchId RecordId CountingGroupId  SessionType PrecinctPortionId  \\\n",
       "0         530       1       23               3  ScannedVote                 4   \n",
       "\n",
       "  BallotTypeId IsCurrent  Id PaperIndex OutstackConditionIds  \n",
       "0            4      True  21          0                   []  "
      ]
     },
     "execution_count": 67,
     "metadata": {},
     "output_type": "execute_result"
    }
   ],
   "source": [
    "##Add first level of dict keys/values\n",
    "unit_df_first = pd.DataFrame.from_dict(unit_dict, orient='index').drop('ImageMask').drop('VotingSessionIdentifier').drop('UniqueVotingIdentifier').drop('Original')\n",
    "unit_df_first = unit_df_first.T\n",
    "##Add second level of dict keys/values\n",
    "unit_df_second = pd.DataFrame.from_dict(unit_dict['Original'], orient='index').drop('Cards')\n",
    "unit_df_second = unit_df_second.T\n",
    "##concat both\n",
    "unit_df_2lvl = pd.concat([unit_df_first, unit_df_second], axis=1, join=\"inner\")\n",
    "unit_df_2lvl\n",
    "##third level\n",
    "unit_df_third = pd.DataFrame.from_dict(unit_dict['Original']['Cards'][0], orient='index').drop('Contests')\n",
    "unit_df_third = unit_df_third.T\n",
    "##concat all but contests\n",
    "unit_df_nocontests = pd.concat([unit_df_2lvl, unit_df_third], axis=1, join=\"inner\")\n",
    "unit_df_nocontests"
   ]
  },
  {
   "cell_type": "code",
   "execution_count": 71,
   "metadata": {},
   "outputs": [
    {
     "data": {
      "text/plain": [
       "{'Id': 1,\n",
       " 'ManifestationId': 133,\n",
       " 'Undervotes': 0,\n",
       " 'Overvotes': 0,\n",
       " 'OutstackConditionIds': [],\n",
       " 'Marks': [{'CandidateId': 2,\n",
       "   'ManifestationId': 766,\n",
       "   'PartyId': 0,\n",
       "   'Rank': 1,\n",
       "   'MarkDensity': 100,\n",
       "   'IsAmbiguous': False,\n",
       "   'IsVote': True,\n",
       "   'OutstackConditionIds': []}]}"
      ]
     },
     "execution_count": 71,
     "metadata": {},
     "output_type": "execute_result"
    }
   ],
   "source": [
    "## Contest list to table in unit example\n",
    "unit_contests = unit_dict['Original']['Cards'][0]['Contests']\n",
    "unit_contests[0]"
   ]
  },
  {
   "cell_type": "code",
   "execution_count": 69,
   "metadata": {},
   "outputs": [
    {
     "ename": "AttributeError",
     "evalue": "'list' object has no attribute 'keys'",
     "output_type": "error",
     "traceback": [
      "\u001b[1;31m---------------------------------------------------------------------------\u001b[0m",
      "\u001b[1;31mAttributeError\u001b[0m                            Traceback (most recent call last)",
      "\u001b[1;32m<ipython-input-69-1d5b0e6372b9>\u001b[0m in \u001b[0;36m<module>\u001b[1;34m\u001b[0m\n\u001b[0;32m      3\u001b[0m \u001b[0munit_contests\u001b[0m\u001b[1;33m\u001b[0m\u001b[1;33m\u001b[0m\u001b[0m\n\u001b[0;32m      4\u001b[0m unit_contests_df = {(i,j): unit_contests[i][j] \n\u001b[1;32m----> 5\u001b[1;33m        \u001b[1;32mfor\u001b[0m \u001b[0mi\u001b[0m \u001b[1;32min\u001b[0m \u001b[0munit_contests\u001b[0m\u001b[1;33m.\u001b[0m\u001b[0mkeys\u001b[0m\u001b[1;33m(\u001b[0m\u001b[1;33m)\u001b[0m\u001b[1;33m\u001b[0m\u001b[1;33m\u001b[0m\u001b[0m\n\u001b[0m\u001b[0;32m      6\u001b[0m        for j in unit_contests[i].keys()}\n\u001b[0;32m      7\u001b[0m \u001b[1;33m\u001b[0m\u001b[0m\n",
      "\u001b[1;31mAttributeError\u001b[0m: 'list' object has no attribute 'keys'"
     ]
    }
   ],
   "source": [
    "unit_contests_df = {(i,j): unit_contests[i][j] \n",
    "       for i in unit_contests.keys() \n",
    "       for j in unit_contests[i].keys()}\n",
    "\n",
    "mux = pd.MultiIndex.from_tuples(unit_contests.keys())\n",
    "df = pd.DataFrame(list(unit_contests.values()), index=mux)\n",
    "print (df)"
   ]
  },
  {
   "cell_type": "code",
   "execution_count": null,
   "metadata": {},
   "outputs": [],
   "source": []
  }
 ],
 "metadata": {
  "kernelspec": {
   "display_name": "Python 3",
   "language": "python",
   "name": "python3"
  },
  "language_info": {
   "codemirror_mode": {
    "name": "ipython",
    "version": 3
   },
   "file_extension": ".py",
   "mimetype": "text/x-python",
   "name": "python",
   "nbconvert_exporter": "python",
   "pygments_lexer": "ipython3",
   "version": "3.8.3"
  }
 },
 "nbformat": 4,
 "nbformat_minor": 4
}
