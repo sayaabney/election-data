{
 "cells": [
  {
   "cell_type": "code",
   "execution_count": 3,
   "metadata": {},
   "outputs": [],
   "source": [
    "import json\n",
    "import zipfile\n",
    "import os\n",
    "import numpy as np\n",
    "import pandas as pd\n",
    "import matplotlib\n",
    "import matplotlib.pyplot as plt"
   ]
  },
  {
   "cell_type": "code",
   "execution_count": 4,
   "metadata": {},
   "outputs": [],
   "source": [
    "from pathlib import Path\n",
    "data_dir = Path('.')\n",
    "data_dir.mkdir(exist_ok = True)\n",
    "file_path = data_dir / Path('CVR2.zip')\n",
    "dest_path = file_path"
   ]
  },
  {
   "cell_type": "code",
   "execution_count": 5,
   "metadata": {},
   "outputs": [],
   "source": [
    "zip_1 = zipfile.ZipFile(dest_path, 'r')\n",
    "with zip_1.open('CvrExport.json') as cvr_2:\n",
    "    cvr_exp = pd.read_json(cvr_2)"
   ]
  },
  {
   "cell_type": "code",
   "execution_count": 6,
   "metadata": {},
   "outputs": [
    {
     "data": {
      "text/plain": [
       "0    {'TabulatorId': 530, 'BatchId': 1, 'RecordId':...\n",
       "1    {'TabulatorId': 530, 'BatchId': 1, 'RecordId':...\n",
       "2    {'TabulatorId': 530, 'BatchId': 1, 'RecordId':...\n",
       "3    {'TabulatorId': 530, 'BatchId': 1, 'RecordId':...\n",
       "4    {'TabulatorId': 530, 'BatchId': 1, 'RecordId':...\n",
       "Name: Sessions, dtype: object"
      ]
     },
     "execution_count": 6,
     "metadata": {},
     "output_type": "execute_result"
    }
   ],
   "source": [
    "cvr_sessions = cvr_exp['Sessions']\n",
    "cvr_sessions.head()"
   ]
  },
  {
   "cell_type": "markdown",
   "metadata": {},
   "source": [
    "# Questions"
   ]
  },
  {
   "cell_type": "markdown",
   "metadata": {},
   "source": [
    "## How many people voted for both GOP US senators but made no vote at all for President? (was it concentrated in any particular precinct?)"
   ]
  },
  {
   "cell_type": "code",
   "execution_count": 7,
   "metadata": {},
   "outputs": [
    {
     "data": {
      "text/plain": [
       "59"
      ]
     },
     "execution_count": 7,
     "metadata": {},
     "output_type": "execute_result"
    }
   ],
   "source": [
    "## Go to levels for the senate and presidential contests and count the numbers of votes for senators but no president\n",
    "## Outstack Condition 6 is code for no vote\n",
    "sen_no_pres_count = 0\n",
    "index_count = 0\n",
    "for i in cvr_sessions:\n",
    "    if not 6 in i['Original']['Cards'][0]['Contests'][1].get('OutstackConditionIds'):\n",
    "        if 6 in i['Original']['Cards'][0]['Contests'][0].get('OutstackConditionIds'):\n",
    "            sen_no_pres_count += 1\n",
    "    index_count += 1\n",
    "sen_no_pres_count"
   ]
  },
  {
   "cell_type": "markdown",
   "metadata": {},
   "source": [
    "## How many people voted for both GOP US senators but voted for Biden? (Any precinct concentration?)"
   ]
  },
  {
   "cell_type": "code",
   "execution_count": 8,
   "metadata": {},
   "outputs": [
    {
     "name": "stdout",
     "output_type": "stream",
     "text": [
      "36939 34748 240\n"
     ]
    }
   ],
   "source": [
    "gop_biden_pres_count = 0\n",
    "purdue_count = 0\n",
    "both_gop_count = 0\n",
    "for i in cvr_sessions:\n",
    "    if not 6 in i['Original']['Cards'][0]['Contests'][1].get('OutstackConditionIds'):\n",
    "        if i['Original']['Cards'][0]['Contests'][1].get('Marks')[0].get('CandidateId') == 4:\n",
    "            purdue_count += 1\n",
    "            if not 6 in i['Original']['Cards'][0]['Contests'][2].get('OutstackConditionIds'):\n",
    "                if i['Original']['Cards'][0]['Contests'][2].get('Marks')[0].get('CandidateId') in [9, 11, 24, 16, 19]:\n",
    "                    both_gop_count += 1\n",
    "                    if not 6 in i['Original']['Cards'][0]['Contests'][0].get('OutstackConditionIds'):\n",
    "                        if i['Original']['Cards'][0]['Contests'][0].get('Marks')[0].get('CandidateId') == 2:\n",
    "                            gop_biden_pres_count += 1\n",
    "print(purdue_count, both_gop_count, gop_biden_pres_count)"
   ]
  },
  {
   "cell_type": "markdown",
   "metadata": {},
   "source": [
    "## How many people split their vote between One GOP and one Dem US Senator?"
   ]
  },
  {
   "cell_type": "code",
   "execution_count": 9,
   "metadata": {},
   "outputs": [
    {
     "name": "stdout",
     "output_type": "stream",
     "text": [
      "36939 8985\n"
     ]
    }
   ],
   "source": [
    "purdue_count = 0\n",
    "dem = 0\n",
    "split_count = 0\n",
    "for i in cvr_sessions:\n",
    "    if not 6 in i['Original']['Cards'][0]['Contests'][1].get('OutstackConditionIds'):\n",
    "        if i['Original']['Cards'][0]['Contests'][1].get('Marks')[0].get('CandidateId') == 4:\n",
    "            purdue_count += 1\n",
    "        elif not 6 in i['Original']['Cards'][0]['Contests'][2].get('OutstackConditionIds'):\n",
    "            if i['Original']['Cards'][0]['Contests'][2].get('Marks')[0].get('CandidateId') in [26, 17, 18, 20, 25, 23]:\n",
    "                split_count += 1\n",
    "print(purdue_count, split_count)"
   ]
  },
  {
   "cell_type": "markdown",
   "metadata": {},
   "source": [
    "## For ballots on which the mark density on more 3 or more votes is less than 15%, how many undervotes are there? (That is related to the faulty scanning issue. Those might be votes that are not counted. )"
   ]
  },
  {
   "cell_type": "code",
   "execution_count": 10,
   "metadata": {},
   "outputs": [
    {
     "data": {
      "text/html": [
       "<div>\n",
       "<style scoped>\n",
       "    .dataframe tbody tr th:only-of-type {\n",
       "        vertical-align: middle;\n",
       "    }\n",
       "\n",
       "    .dataframe tbody tr th {\n",
       "        vertical-align: top;\n",
       "    }\n",
       "\n",
       "    .dataframe thead th {\n",
       "        text-align: right;\n",
       "    }\n",
       "</style>\n",
       "<table border=\"1\" class=\"dataframe\">\n",
       "  <thead>\n",
       "    <tr style=\"text-align: right;\">\n",
       "      <th></th>\n",
       "      <th>Under 15</th>\n",
       "      <th>Zero density</th>\n",
       "      <th>Labelled blank</th>\n",
       "      <th>No density listed</th>\n",
       "      <th>Undercount</th>\n",
       "    </tr>\n",
       "  </thead>\n",
       "  <tbody>\n",
       "    <tr>\n",
       "      <th>0</th>\n",
       "      <td>3</td>\n",
       "      <td>3</td>\n",
       "      <td>9</td>\n",
       "      <td>3</td>\n",
       "      <td>9</td>\n",
       "    </tr>\n",
       "    <tr>\n",
       "      <th>1</th>\n",
       "      <td>5</td>\n",
       "      <td>10</td>\n",
       "      <td>17</td>\n",
       "      <td>10</td>\n",
       "      <td>17</td>\n",
       "    </tr>\n",
       "    <tr>\n",
       "      <th>2</th>\n",
       "      <td>4</td>\n",
       "      <td>1</td>\n",
       "      <td>11</td>\n",
       "      <td>1</td>\n",
       "      <td>11</td>\n",
       "    </tr>\n",
       "    <tr>\n",
       "      <th>3</th>\n",
       "      <td>5</td>\n",
       "      <td>2</td>\n",
       "      <td>13</td>\n",
       "      <td>2</td>\n",
       "      <td>13</td>\n",
       "    </tr>\n",
       "    <tr>\n",
       "      <th>4</th>\n",
       "      <td>7</td>\n",
       "      <td>3</td>\n",
       "      <td>10</td>\n",
       "      <td>3</td>\n",
       "      <td>10</td>\n",
       "    </tr>\n",
       "    <tr>\n",
       "      <th>5</th>\n",
       "      <td>3</td>\n",
       "      <td>8</td>\n",
       "      <td>18</td>\n",
       "      <td>8</td>\n",
       "      <td>18</td>\n",
       "    </tr>\n",
       "    <tr>\n",
       "      <th>6</th>\n",
       "      <td>5</td>\n",
       "      <td>0</td>\n",
       "      <td>11</td>\n",
       "      <td>0</td>\n",
       "      <td>11</td>\n",
       "    </tr>\n",
       "    <tr>\n",
       "      <th>7</th>\n",
       "      <td>4</td>\n",
       "      <td>8</td>\n",
       "      <td>9</td>\n",
       "      <td>8</td>\n",
       "      <td>9</td>\n",
       "    </tr>\n",
       "  </tbody>\n",
       "</table>\n",
       "</div>"
      ],
      "text/plain": [
       "   Under 15  Zero density  Labelled blank  No density listed  Undercount\n",
       "0         3             3               9                  3           9\n",
       "1         5            10              17                 10          17\n",
       "2         4             1              11                  1          11\n",
       "3         5             2              13                  2          13\n",
       "4         7             3              10                  3          10\n",
       "5         3             8              18                  8          18\n",
       "6         5             0              11                  0          11\n",
       "7         4             8               9                  8           9"
      ]
     },
     "execution_count": 10,
     "metadata": {},
     "output_type": "execute_result"
    }
   ],
   "source": [
    "undervotes = []\n",
    "for i in cvr_sessions:\n",
    "    under_15_density = 0\n",
    "    under_count = 0\n",
    "    no_mark_category = 0\n",
    "    registered_blank = 0\n",
    "    zero_density = 0\n",
    "    for j in i['Original']['Cards'][0]['Contests']:\n",
    "        density = 0\n",
    "        if j.get('Undervotes') == 1:\n",
    "            under_count += 1\n",
    "        if j.get('Marks'):\n",
    "            density = j.get('Marks')[0].get('MarkDensity')\n",
    "        if density > 0 and density < 15:\n",
    "            under_15_density += 1\n",
    "        if density == 0:\n",
    "            zero_density += 1\n",
    "        if not j.get('Marks'):\n",
    "            no_mark_category += 1\n",
    "        if 6 in j.get('OutstackConditionIds'):\n",
    "            registered_blank += 1\n",
    "    if under_15_density >= 3:\n",
    "        undervotes.append([under_15_density, zero_density, registered_blank, no_mark_category, under_count])\n",
    "undervotes_df = pd.DataFrame(undervotes, columns=['Under 15', 'Zero density', 'Labelled blank', 'No density listed', 'Undercount'])\n",
    "undervotes_df"
   ]
  },
  {
   "cell_type": "markdown",
   "metadata": {},
   "source": [
    "## How many “Ambiguous votes” were not counted?"
   ]
  },
  {
   "cell_type": "code",
   "execution_count": 11,
   "metadata": {},
   "outputs": [
    {
     "data": {
      "text/plain": [
       "210"
      ]
     },
     "execution_count": 11,
     "metadata": {},
     "output_type": "execute_result"
    }
   ],
   "source": [
    "ambiguous_not_counted = 0\n",
    "for i in cvr_sessions:\n",
    "    for j in i['Original']['Cards'][0]['Contests']:\n",
    "        if j.get('Marks'):\n",
    "            if j.get('Marks')[0].get('IsAmbiguous'):\n",
    "                if not j.get('Marks')[0].get('IsVote'):\n",
    "                    ambiguous_not_counted += 1\n",
    "ambiguous_not_counted"
   ]
  },
  {
   "cell_type": "markdown",
   "metadata": {},
   "source": [
    "## How many overvotes were recorded?"
   ]
  },
  {
   "cell_type": "code",
   "execution_count": 12,
   "metadata": {},
   "outputs": [
    {
     "data": {
      "text/plain": [
       "191"
      ]
     },
     "execution_count": 12,
     "metadata": {},
     "output_type": "execute_result"
    }
   ],
   "source": [
    "overvotes = 0\n",
    "for i in cvr_sessions:\n",
    "    for j in i['Original']['Cards'][0]['Contests']:\n",
    "        if j.get('Overvotes') != 0:\n",
    "            overvotes += j.get('Overvotes')\n",
    "overvotes"
   ]
  },
  {
   "cell_type": "markdown",
   "metadata": {},
   "source": [
    "## Can the votes for candidate be easily tabulated?\n",
    "yes"
   ]
  },
  {
   "cell_type": "markdown",
   "metadata": {},
   "source": [
    "## Is there a scanner batch number on the CVR?\n",
    "yes"
   ]
  },
  {
   "cell_type": "code",
   "execution_count": null,
   "metadata": {},
   "outputs": [],
   "source": []
  }
 ],
 "metadata": {
  "kernelspec": {
   "display_name": "Python 3",
   "language": "python",
   "name": "python3"
  },
  "language_info": {
   "codemirror_mode": {
    "name": "ipython",
    "version": 3
   },
   "file_extension": ".py",
   "mimetype": "text/x-python",
   "name": "python",
   "nbconvert_exporter": "python",
   "pygments_lexer": "ipython3",
   "version": "3.8.3"
  }
 },
 "nbformat": 4,
 "nbformat_minor": 4
}
