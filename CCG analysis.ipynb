{
 "cells": [
  {
   "cell_type": "code",
   "execution_count": 1,
   "metadata": {},
   "outputs": [],
   "source": [
    "import json\n",
    "import zipfile\n",
    "import os\n",
    "import numpy as np\n",
    "import pandas as pd\n",
    "import matplotlib\n",
    "import matplotlib.pyplot as plt"
   ]
  },
  {
   "cell_type": "code",
   "execution_count": 2,
   "metadata": {},
   "outputs": [],
   "source": [
    "from pathlib import Path\n",
    "data_dir = Path('.')\n",
    "data_dir.mkdir(exist_ok = True)\n",
    "file_path = data_dir / Path('CVR1.zip')\n",
    "dest_path = file_path"
   ]
  },
  {
   "cell_type": "code",
   "execution_count": 3,
   "metadata": {},
   "outputs": [],
   "source": [
    "zip_1 = zipfile.ZipFile(dest_path, 'r')\n",
    "with zip_1.open('CvrExport.json') as cvr_1:\n",
    "    cvr_exp = pd.read_json(cvr_1)"
   ]
  },
  {
   "cell_type": "code",
   "execution_count": 4,
   "metadata": {},
   "outputs": [
    {
     "data": {
      "text/html": [
       "<div>\n",
       "<style scoped>\n",
       "    .dataframe tbody tr th:only-of-type {\n",
       "        vertical-align: middle;\n",
       "    }\n",
       "\n",
       "    .dataframe tbody tr th {\n",
       "        vertical-align: top;\n",
       "    }\n",
       "\n",
       "    .dataframe thead th {\n",
       "        text-align: right;\n",
       "    }\n",
       "</style>\n",
       "<table border=\"1\" class=\"dataframe\">\n",
       "  <thead>\n",
       "    <tr style=\"text-align: right;\">\n",
       "      <th></th>\n",
       "      <th>Version</th>\n",
       "      <th>ElectionId</th>\n",
       "      <th>Sessions</th>\n",
       "    </tr>\n",
       "  </thead>\n",
       "  <tbody>\n",
       "    <tr>\n",
       "      <th>0</th>\n",
       "      <td>5.5.12.1</td>\n",
       "      <td>Bartow Nov 2020 General</td>\n",
       "      <td>{'TabulatorId': 530, 'BatchId': 1, 'RecordId':...</td>\n",
       "    </tr>\n",
       "    <tr>\n",
       "      <th>1</th>\n",
       "      <td>5.5.12.1</td>\n",
       "      <td>Bartow Nov 2020 General</td>\n",
       "      <td>{'TabulatorId': 530, 'BatchId': 1, 'RecordId':...</td>\n",
       "    </tr>\n",
       "    <tr>\n",
       "      <th>2</th>\n",
       "      <td>5.5.12.1</td>\n",
       "      <td>Bartow Nov 2020 General</td>\n",
       "      <td>{'TabulatorId': 530, 'BatchId': 1, 'RecordId':...</td>\n",
       "    </tr>\n",
       "    <tr>\n",
       "      <th>3</th>\n",
       "      <td>5.5.12.1</td>\n",
       "      <td>Bartow Nov 2020 General</td>\n",
       "      <td>{'TabulatorId': 530, 'BatchId': 1, 'RecordId':...</td>\n",
       "    </tr>\n",
       "    <tr>\n",
       "      <th>4</th>\n",
       "      <td>5.5.12.1</td>\n",
       "      <td>Bartow Nov 2020 General</td>\n",
       "      <td>{'TabulatorId': 530, 'BatchId': 1, 'RecordId':...</td>\n",
       "    </tr>\n",
       "  </tbody>\n",
       "</table>\n",
       "</div>"
      ],
      "text/plain": [
       "    Version               ElectionId  \\\n",
       "0  5.5.12.1  Bartow Nov 2020 General   \n",
       "1  5.5.12.1  Bartow Nov 2020 General   \n",
       "2  5.5.12.1  Bartow Nov 2020 General   \n",
       "3  5.5.12.1  Bartow Nov 2020 General   \n",
       "4  5.5.12.1  Bartow Nov 2020 General   \n",
       "\n",
       "                                            Sessions  \n",
       "0  {'TabulatorId': 530, 'BatchId': 1, 'RecordId':...  \n",
       "1  {'TabulatorId': 530, 'BatchId': 1, 'RecordId':...  \n",
       "2  {'TabulatorId': 530, 'BatchId': 1, 'RecordId':...  \n",
       "3  {'TabulatorId': 530, 'BatchId': 1, 'RecordId':...  \n",
       "4  {'TabulatorId': 530, 'BatchId': 1, 'RecordId':...  "
      ]
     },
     "execution_count": 4,
     "metadata": {},
     "output_type": "execute_result"
    }
   ],
   "source": [
    "cvr_exp.head()"
   ]
  },
  {
   "cell_type": "code",
   "execution_count": 5,
   "metadata": {},
   "outputs": [
    {
     "data": {
      "text/plain": [
       "152034"
      ]
     },
     "execution_count": 5,
     "metadata": {},
     "output_type": "execute_result"
    }
   ],
   "source": [
    "cvr_exp.size"
   ]
  },
  {
   "cell_type": "code",
   "execution_count": 53,
   "metadata": {},
   "outputs": [
    {
     "data": {
      "text/plain": [
       "0    {'TabulatorId': 530, 'BatchId': 1, 'RecordId':...\n",
       "1    {'TabulatorId': 530, 'BatchId': 1, 'RecordId':...\n",
       "2    {'TabulatorId': 530, 'BatchId': 1, 'RecordId':...\n",
       "3    {'TabulatorId': 530, 'BatchId': 1, 'RecordId':...\n",
       "4    {'TabulatorId': 530, 'BatchId': 1, 'RecordId':...\n",
       "Name: Sessions, dtype: object"
      ]
     },
     "execution_count": 53,
     "metadata": {},
     "output_type": "execute_result"
    }
   ],
   "source": [
    "cvr_sessions = cvr_exp['Sessions']\n",
    "unit_dict = cvr_sessions[0]\n",
    "cvr_sessions.head()"
   ]
  },
  {
   "cell_type": "code",
   "execution_count": 54,
   "metadata": {},
   "outputs": [
    {
     "data": {
      "text/plain": [
       "True"
      ]
     },
     "execution_count": 54,
     "metadata": {},
     "output_type": "execute_result"
    }
   ],
   "source": [
    "##Sanity check to make sure cvr_sessions is a series of nested dictionaries\n",
    "isinstance(unit_dict, dict)"
   ]
  },
  {
   "cell_type": "code",
   "execution_count": 55,
   "metadata": {},
   "outputs": [
    {
     "data": {
      "text/plain": [
       "True"
      ]
     },
     "execution_count": 55,
     "metadata": {},
     "output_type": "execute_result"
    }
   ],
   "source": [
    "##Sorting through to the list of contests, checking type is list for each contest\n",
    "isinstance(unit_dict['Original']['Cards'][0]['Contests'], list)"
   ]
  },
  {
   "cell_type": "code",
   "execution_count": 67,
   "metadata": {},
   "outputs": [
    {
     "data": {
      "text/html": [
       "<div>\n",
       "<style scoped>\n",
       "    .dataframe tbody tr th:only-of-type {\n",
       "        vertical-align: middle;\n",
       "    }\n",
       "\n",
       "    .dataframe tbody tr th {\n",
       "        vertical-align: top;\n",
       "    }\n",
       "\n",
       "    .dataframe thead th {\n",
       "        text-align: right;\n",
       "    }\n",
       "</style>\n",
       "<table border=\"1\" class=\"dataframe\">\n",
       "  <thead>\n",
       "    <tr style=\"text-align: right;\">\n",
       "      <th></th>\n",
       "      <th>TabulatorId</th>\n",
       "      <th>BatchId</th>\n",
       "      <th>RecordId</th>\n",
       "      <th>CountingGroupId</th>\n",
       "      <th>SessionType</th>\n",
       "      <th>PrecinctPortionId</th>\n",
       "      <th>BallotTypeId</th>\n",
       "      <th>IsCurrent</th>\n",
       "      <th>Id</th>\n",
       "      <th>PaperIndex</th>\n",
       "      <th>OutstackConditionIds</th>\n",
       "    </tr>\n",
       "  </thead>\n",
       "  <tbody>\n",
       "    <tr>\n",
       "      <th>0</th>\n",
       "      <td>530</td>\n",
       "      <td>1</td>\n",
       "      <td>23</td>\n",
       "      <td>3</td>\n",
       "      <td>ScannedVote</td>\n",
       "      <td>4</td>\n",
       "      <td>4</td>\n",
       "      <td>True</td>\n",
       "      <td>21</td>\n",
       "      <td>0</td>\n",
       "      <td>[]</td>\n",
       "    </tr>\n",
       "  </tbody>\n",
       "</table>\n",
       "</div>"
      ],
      "text/plain": [
       "  TabulatorId BatchId RecordId CountingGroupId  SessionType PrecinctPortionId  \\\n",
       "0         530       1       23               3  ScannedVote                 4   \n",
       "\n",
       "  BallotTypeId IsCurrent  Id PaperIndex OutstackConditionIds  \n",
       "0            4      True  21          0                   []  "
      ]
     },
     "execution_count": 67,
     "metadata": {},
     "output_type": "execute_result"
    }
   ],
   "source": [
    "##Add first level of dict keys/values\n",
    "unit_df_first = pd.DataFrame.from_dict(unit_dict, orient='index').drop('ImageMask').drop('VotingSessionIdentifier').drop('UniqueVotingIdentifier').drop('Original')\n",
    "unit_df_first = unit_df_first.T\n",
    "##Add second level of dict keys/values\n",
    "unit_df_second = pd.DataFrame.from_dict(unit_dict['Original'], orient='index').drop('Cards')\n",
    "unit_df_second = unit_df_second.T\n",
    "##concat both\n",
    "unit_df_2lvl = pd.concat([unit_df_first, unit_df_second], axis=1, join=\"inner\")\n",
    "unit_df_2lvl\n",
    "##third level\n",
    "unit_df_third = pd.DataFrame.from_dict(unit_dict['Original']['Cards'][0], orient='index').drop('Contests')\n",
    "unit_df_third = unit_df_third.T\n",
    "##concat all but contests\n",
    "unit_df_nocontests = pd.concat([unit_df_2lvl, unit_df_third], axis=1, join=\"inner\")\n",
    "unit_df_nocontests"
   ]
  },
  {
   "cell_type": "code",
   "execution_count": 78,
   "metadata": {},
   "outputs": [
    {
     "data": {
      "text/plain": [
       "[{'Id': 1,\n",
       "  'ManifestationId': 133,\n",
       "  'Undervotes': 0,\n",
       "  'Overvotes': 0,\n",
       "  'OutstackConditionIds': [],\n",
       "  'Marks': [{'CandidateId': 2,\n",
       "    'ManifestationId': 766,\n",
       "    'PartyId': 0,\n",
       "    'Rank': 1,\n",
       "    'MarkDensity': 100,\n",
       "    'IsAmbiguous': False,\n",
       "    'IsVote': True,\n",
       "    'OutstackConditionIds': []}]},\n",
       " {'Id': 2,\n",
       "  'ManifestationId': 134,\n",
       "  'Undervotes': 0,\n",
       "  'Overvotes': 0,\n",
       "  'OutstackConditionIds': [],\n",
       "  'Marks': [{'CandidateId': 5,\n",
       "    'ManifestationId': 770,\n",
       "    'PartyId': 0,\n",
       "    'Rank': 1,\n",
       "    'MarkDensity': 98,\n",
       "    'IsAmbiguous': False,\n",
       "    'IsVote': True,\n",
       "    'OutstackConditionIds': []}]},\n",
       " {'Id': 3,\n",
       "  'ManifestationId': 135,\n",
       "  'Undervotes': 0,\n",
       "  'Overvotes': 0,\n",
       "  'OutstackConditionIds': [],\n",
       "  'Marks': [{'CandidateId': 17,\n",
       "    'ManifestationId': 783,\n",
       "    'PartyId': 0,\n",
       "    'Rank': 1,\n",
       "    'MarkDensity': 100,\n",
       "    'IsAmbiguous': False,\n",
       "    'IsVote': True,\n",
       "    'OutstackConditionIds': []}]},\n",
       " {'Id': 4,\n",
       "  'ManifestationId': 136,\n",
       "  'Undervotes': 0,\n",
       "  'Overvotes': 0,\n",
       "  'OutstackConditionIds': [],\n",
       "  'Marks': [{'CandidateId': 28,\n",
       "    'ManifestationId': 795,\n",
       "    'PartyId': 0,\n",
       "    'Rank': 1,\n",
       "    'MarkDensity': 98,\n",
       "    'IsAmbiguous': False,\n",
       "    'IsVote': True,\n",
       "    'OutstackConditionIds': []}]},\n",
       " {'Id': 5,\n",
       "  'ManifestationId': 137,\n",
       "  'Undervotes': 0,\n",
       "  'Overvotes': 0,\n",
       "  'OutstackConditionIds': [],\n",
       "  'Marks': [{'CandidateId': 31,\n",
       "    'ManifestationId': 799,\n",
       "    'PartyId': 0,\n",
       "    'Rank': 1,\n",
       "    'MarkDensity': 99,\n",
       "    'IsAmbiguous': False,\n",
       "    'IsVote': True,\n",
       "    'OutstackConditionIds': []}]},\n",
       " {'Id': 6,\n",
       "  'ManifestationId': 138,\n",
       "  'Undervotes': 0,\n",
       "  'Overvotes': 0,\n",
       "  'OutstackConditionIds': [],\n",
       "  'Marks': [{'CandidateId': 34,\n",
       "    'ManifestationId': 803,\n",
       "    'PartyId': 0,\n",
       "    'Rank': 1,\n",
       "    'MarkDensity': 96,\n",
       "    'IsAmbiguous': False,\n",
       "    'IsVote': True,\n",
       "    'OutstackConditionIds': []}]},\n",
       " {'Id': 7,\n",
       "  'ManifestationId': 139,\n",
       "  'Undervotes': 0,\n",
       "  'Overvotes': 0,\n",
       "  'OutstackConditionIds': [],\n",
       "  'Marks': [{'CandidateId': 36,\n",
       "    'ManifestationId': 806,\n",
       "    'PartyId': 0,\n",
       "    'Rank': 1,\n",
       "    'MarkDensity': 98,\n",
       "    'IsAmbiguous': False,\n",
       "    'IsVote': True,\n",
       "    'OutstackConditionIds': []}]},\n",
       " {'Id': 9,\n",
       "  'ManifestationId': 140,\n",
       "  'Undervotes': 1,\n",
       "  'Overvotes': 0,\n",
       "  'OutstackConditionIds': [4, 6],\n",
       "  'Marks': []},\n",
       " {'Id': 12,\n",
       "  'ManifestationId': 141,\n",
       "  'Undervotes': 1,\n",
       "  'Overvotes': 0,\n",
       "  'OutstackConditionIds': [4, 6],\n",
       "  'Marks': []},\n",
       " {'Id': 13,\n",
       "  'ManifestationId': 142,\n",
       "  'Undervotes': 1,\n",
       "  'Overvotes': 0,\n",
       "  'OutstackConditionIds': [4, 6],\n",
       "  'Marks': []},\n",
       " {'Id': 14,\n",
       "  'ManifestationId': 143,\n",
       "  'Undervotes': 1,\n",
       "  'Overvotes': 0,\n",
       "  'OutstackConditionIds': [4, 6],\n",
       "  'Marks': []},\n",
       " {'Id': 15,\n",
       "  'ManifestationId': 144,\n",
       "  'Undervotes': 1,\n",
       "  'Overvotes': 0,\n",
       "  'OutstackConditionIds': [4, 6],\n",
       "  'Marks': []},\n",
       " {'Id': 16,\n",
       "  'ManifestationId': 145,\n",
       "  'Undervotes': 1,\n",
       "  'Overvotes': 0,\n",
       "  'OutstackConditionIds': [4, 6],\n",
       "  'Marks': []},\n",
       " {'Id': 17,\n",
       "  'ManifestationId': 146,\n",
       "  'Undervotes': 1,\n",
       "  'Overvotes': 0,\n",
       "  'OutstackConditionIds': [4, 6],\n",
       "  'Marks': []},\n",
       " {'Id': 18,\n",
       "  'ManifestationId': 147,\n",
       "  'Undervotes': 1,\n",
       "  'Overvotes': 0,\n",
       "  'OutstackConditionIds': [4, 6],\n",
       "  'Marks': []},\n",
       " {'Id': 19,\n",
       "  'ManifestationId': 148,\n",
       "  'Undervotes': 1,\n",
       "  'Overvotes': 0,\n",
       "  'OutstackConditionIds': [4, 6],\n",
       "  'Marks': []},\n",
       " {'Id': 21,\n",
       "  'ManifestationId': 149,\n",
       "  'Undervotes': 1,\n",
       "  'Overvotes': 0,\n",
       "  'OutstackConditionIds': [4, 6],\n",
       "  'Marks': []},\n",
       " {'Id': 24,\n",
       "  'ManifestationId': 150,\n",
       "  'Undervotes': 0,\n",
       "  'Overvotes': 0,\n",
       "  'OutstackConditionIds': [],\n",
       "  'Marks': [{'CandidateId': 62,\n",
       "    'ManifestationId': 828,\n",
       "    'PartyId': 0,\n",
       "    'Rank': 1,\n",
       "    'MarkDensity': 100,\n",
       "    'IsAmbiguous': False,\n",
       "    'IsVote': True,\n",
       "    'OutstackConditionIds': []}]},\n",
       " {'Id': 25,\n",
       "  'ManifestationId': 151,\n",
       "  'Undervotes': 0,\n",
       "  'Overvotes': 0,\n",
       "  'OutstackConditionIds': [],\n",
       "  'Marks': [{'CandidateId': 64,\n",
       "    'ManifestationId': 830,\n",
       "    'PartyId': 0,\n",
       "    'Rank': 1,\n",
       "    'MarkDensity': 96,\n",
       "    'IsAmbiguous': False,\n",
       "    'IsVote': True,\n",
       "    'OutstackConditionIds': []}]},\n",
       " {'Id': 26,\n",
       "  'ManifestationId': 152,\n",
       "  'Undervotes': 0,\n",
       "  'Overvotes': 0,\n",
       "  'OutstackConditionIds': [],\n",
       "  'Marks': [{'CandidateId': 66,\n",
       "    'ManifestationId': 832,\n",
       "    'PartyId': 0,\n",
       "    'Rank': 1,\n",
       "    'MarkDensity': 98,\n",
       "    'IsAmbiguous': False,\n",
       "    'IsVote': True,\n",
       "    'OutstackConditionIds': []}]},\n",
       " {'Id': 27,\n",
       "  'ManifestationId': 153,\n",
       "  'Undervotes': 0,\n",
       "  'Overvotes': 0,\n",
       "  'OutstackConditionIds': [],\n",
       "  'Marks': [{'CandidateId': 68,\n",
       "    'ManifestationId': 834,\n",
       "    'PartyId': 0,\n",
       "    'Rank': 1,\n",
       "    'MarkDensity': 99,\n",
       "    'IsAmbiguous': False,\n",
       "    'IsVote': True,\n",
       "    'OutstackConditionIds': []}]}]"
      ]
     },
     "execution_count": 78,
     "metadata": {},
     "output_type": "execute_result"
    }
   ],
   "source": [
    "## Contest list to table in unit example\n",
    "unit_contests = unit_dict['Original']['Cards'][0]['Contests']\n",
    "unit_contests"
   ]
  },
  {
   "cell_type": "code",
   "execution_count": 84,
   "metadata": {},
   "outputs": [
    {
     "data": {
      "text/plain": [
       "{'Id': 1,\n",
       " 'ManifestationId': 133,\n",
       " 'Undervotes': 0,\n",
       " 'Overvotes': 0,\n",
       " 'OutstackConditionIds': [],\n",
       " 'Marks': [{'CandidateId': 2,\n",
       "   'ManifestationId': 766,\n",
       "   'PartyId': 0,\n",
       "   'Rank': 1,\n",
       "   'MarkDensity': 100,\n",
       "   'IsAmbiguous': False,\n",
       "   'IsVote': True,\n",
       "   'OutstackConditionIds': []}]}"
      ]
     },
     "execution_count": 84,
     "metadata": {},
     "output_type": "execute_result"
    }
   ],
   "source": [
    "one_contest = unit_contests[0]\n",
    "one_contest"
   ]
  },
  {
   "cell_type": "code",
   "execution_count": 92,
   "metadata": {},
   "outputs": [
    {
     "data": {
      "text/html": [
       "<div>\n",
       "<style scoped>\n",
       "    .dataframe tbody tr th:only-of-type {\n",
       "        vertical-align: middle;\n",
       "    }\n",
       "\n",
       "    .dataframe tbody tr th {\n",
       "        vertical-align: top;\n",
       "    }\n",
       "\n",
       "    .dataframe thead th {\n",
       "        text-align: right;\n",
       "    }\n",
       "</style>\n",
       "<table border=\"1\" class=\"dataframe\">\n",
       "  <thead>\n",
       "    <tr style=\"text-align: right;\">\n",
       "      <th></th>\n",
       "      <th>Id</th>\n",
       "      <th>ManifestationId</th>\n",
       "      <th>Undervotes</th>\n",
       "      <th>Overvotes</th>\n",
       "      <th>OutstackConditionIds</th>\n",
       "    </tr>\n",
       "  </thead>\n",
       "  <tbody>\n",
       "    <tr>\n",
       "      <th>0</th>\n",
       "      <td>1</td>\n",
       "      <td>133</td>\n",
       "      <td>0</td>\n",
       "      <td>0</td>\n",
       "      <td>[]</td>\n",
       "    </tr>\n",
       "  </tbody>\n",
       "</table>\n",
       "</div>"
      ],
      "text/plain": [
       "  Id ManifestationId Undervotes Overvotes OutstackConditionIds\n",
       "0  1             133          0         0                   []"
      ]
     },
     "execution_count": 92,
     "metadata": {},
     "output_type": "execute_result"
    }
   ],
   "source": [
    "one_contest_df = pd.DataFrame.from_dict(one_contest, orient='index').drop('Marks')\n",
    "one_contest_df = one_contest_df.T\n",
    "one_contest_df"
   ]
  },
  {
   "cell_type": "code",
   "execution_count": 98,
   "metadata": {},
   "outputs": [
    {
     "data": {
      "text/html": [
       "<div>\n",
       "<style scoped>\n",
       "    .dataframe tbody tr th:only-of-type {\n",
       "        vertical-align: middle;\n",
       "    }\n",
       "\n",
       "    .dataframe tbody tr th {\n",
       "        vertical-align: top;\n",
       "    }\n",
       "\n",
       "    .dataframe thead th {\n",
       "        text-align: right;\n",
       "    }\n",
       "</style>\n",
       "<table border=\"1\" class=\"dataframe\">\n",
       "  <thead>\n",
       "    <tr style=\"text-align: right;\">\n",
       "      <th></th>\n",
       "      <th>CandidateId</th>\n",
       "      <th>ManifestationId</th>\n",
       "      <th>PartyId</th>\n",
       "      <th>Rank</th>\n",
       "      <th>MarkDensity</th>\n",
       "      <th>IsAmbiguous</th>\n",
       "      <th>IsVote</th>\n",
       "      <th>OutstackConditionIds</th>\n",
       "    </tr>\n",
       "  </thead>\n",
       "  <tbody>\n",
       "    <tr>\n",
       "      <th>0</th>\n",
       "      <td>2</td>\n",
       "      <td>766</td>\n",
       "      <td>0</td>\n",
       "      <td>1</td>\n",
       "      <td>100</td>\n",
       "      <td>False</td>\n",
       "      <td>True</td>\n",
       "      <td>[]</td>\n",
       "    </tr>\n",
       "  </tbody>\n",
       "</table>\n",
       "</div>"
      ],
      "text/plain": [
       "  CandidateId ManifestationId PartyId Rank MarkDensity IsAmbiguous IsVote  \\\n",
       "0           2             766       0    1         100       False   True   \n",
       "\n",
       "  OutstackConditionIds  \n",
       "0                   []  "
      ]
     },
     "execution_count": 98,
     "metadata": {},
     "output_type": "execute_result"
    }
   ],
   "source": [
    "one_marks = one_contest['Marks'][0]\n",
    "one_marks_df = pd.DataFrame.from_dict(one_marks, orient='index').T\n",
    "contest_concat = one_marks_df"
   ]
  },
  {
   "cell_type": "code",
   "execution_count": 96,
   "metadata": {},
   "outputs": [
    {
     "ename": "AttributeError",
     "evalue": "'int' object has no attribute 'keys'",
     "output_type": "error",
     "traceback": [
      "\u001b[1;31m---------------------------------------------------------------------------\u001b[0m",
      "\u001b[1;31mAttributeError\u001b[0m                            Traceback (most recent call last)",
      "\u001b[1;32m<ipython-input-96-221d0a019a90>\u001b[0m in \u001b[0;36m<module>\u001b[1;34m\u001b[0m\n\u001b[1;32m----> 1\u001b[1;33m df = pd.DataFrame.from_dict({(i,j): one_marks[i][j] \n\u001b[0m\u001b[0;32m      2\u001b[0m                             \u001b[1;32mfor\u001b[0m \u001b[0mi\u001b[0m \u001b[1;32min\u001b[0m \u001b[0mone_marks\u001b[0m\u001b[1;33m.\u001b[0m\u001b[0mkeys\u001b[0m\u001b[1;33m(\u001b[0m\u001b[1;33m)\u001b[0m\u001b[1;33m\u001b[0m\u001b[1;33m\u001b[0m\u001b[0m\n\u001b[0;32m      3\u001b[0m                             for j in one_marks[i].keys()},\n\u001b[0;32m      4\u001b[0m                             orient='index')\n\u001b[0;32m      5\u001b[0m \u001b[1;33m\u001b[0m\u001b[0m\n",
      "\u001b[1;32m<ipython-input-96-221d0a019a90>\u001b[0m in \u001b[0;36m<dictcomp>\u001b[1;34m(.0)\u001b[0m\n\u001b[0;32m      1\u001b[0m df = pd.DataFrame.from_dict({(i,j): one_marks[i][j] \n\u001b[0;32m      2\u001b[0m                             \u001b[1;32mfor\u001b[0m \u001b[0mi\u001b[0m \u001b[1;32min\u001b[0m \u001b[0mone_marks\u001b[0m\u001b[1;33m.\u001b[0m\u001b[0mkeys\u001b[0m\u001b[1;33m(\u001b[0m\u001b[1;33m)\u001b[0m\u001b[1;33m\u001b[0m\u001b[1;33m\u001b[0m\u001b[0m\n\u001b[1;32m----> 3\u001b[1;33m                             for j in one_marks[i].keys()},\n\u001b[0m\u001b[0;32m      4\u001b[0m                             orient='index')\n\u001b[0;32m      5\u001b[0m \u001b[1;33m\u001b[0m\u001b[0m\n",
      "\u001b[1;31mAttributeError\u001b[0m: 'int' object has no attribute 'keys'"
     ]
    }
   ],
   "source": []
  },
  {
   "cell_type": "code",
   "execution_count": null,
   "metadata": {},
   "outputs": [],
   "source": []
  }
 ],
 "metadata": {
  "kernelspec": {
   "display_name": "Python 3",
   "language": "python",
   "name": "python3"
  },
  "language_info": {
   "codemirror_mode": {
    "name": "ipython",
    "version": 3
   },
   "file_extension": ".py",
   "mimetype": "text/x-python",
   "name": "python",
   "nbconvert_exporter": "python",
   "pygments_lexer": "ipython3",
   "version": "3.8.3"
  }
 },
 "nbformat": 4,
 "nbformat_minor": 4
}
