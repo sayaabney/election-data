{
 "cells": [
  {
   "cell_type": "code",
   "execution_count": 1,
   "metadata": {},
   "outputs": [],
   "source": [
    "import json\n",
    "import zipfile\n",
    "import os\n",
    "import numpy as np\n",
    "import pandas as pd\n",
    "import matplotlib\n",
    "import matplotlib.pyplot as plt"
   ]
  },
  {
   "cell_type": "code",
   "execution_count": 2,
   "metadata": {},
   "outputs": [],
   "source": [
    "from pathlib import Path\n",
    "data_dir = Path('.')\n",
    "data_dir.mkdir(exist_ok = True)\n",
    "file_path = data_dir / Path('CVR1.zip')\n",
    "dest_path = file_path"
   ]
  },
  {
   "cell_type": "code",
   "execution_count": 3,
   "metadata": {},
   "outputs": [],
   "source": [
    "zip_1 = zipfile.ZipFile(dest_path, 'r')\n",
    "with zip_1.open('CvrExport.json') as cvr_1:\n",
    "    cvr_exp = pd.read_json(cvr_1)"
   ]
  },
  {
   "cell_type": "code",
   "execution_count": 4,
   "metadata": {},
   "outputs": [
    {
     "data": {
      "text/html": [
       "<div>\n",
       "<style scoped>\n",
       "    .dataframe tbody tr th:only-of-type {\n",
       "        vertical-align: middle;\n",
       "    }\n",
       "\n",
       "    .dataframe tbody tr th {\n",
       "        vertical-align: top;\n",
       "    }\n",
       "\n",
       "    .dataframe thead th {\n",
       "        text-align: right;\n",
       "    }\n",
       "</style>\n",
       "<table border=\"1\" class=\"dataframe\">\n",
       "  <thead>\n",
       "    <tr style=\"text-align: right;\">\n",
       "      <th></th>\n",
       "      <th>Version</th>\n",
       "      <th>ElectionId</th>\n",
       "      <th>Sessions</th>\n",
       "    </tr>\n",
       "  </thead>\n",
       "  <tbody>\n",
       "    <tr>\n",
       "      <th>0</th>\n",
       "      <td>5.5.12.1</td>\n",
       "      <td>Bartow Nov 2020 General</td>\n",
       "      <td>{'TabulatorId': 530, 'BatchId': 1, 'RecordId':...</td>\n",
       "    </tr>\n",
       "    <tr>\n",
       "      <th>1</th>\n",
       "      <td>5.5.12.1</td>\n",
       "      <td>Bartow Nov 2020 General</td>\n",
       "      <td>{'TabulatorId': 530, 'BatchId': 1, 'RecordId':...</td>\n",
       "    </tr>\n",
       "    <tr>\n",
       "      <th>2</th>\n",
       "      <td>5.5.12.1</td>\n",
       "      <td>Bartow Nov 2020 General</td>\n",
       "      <td>{'TabulatorId': 530, 'BatchId': 1, 'RecordId':...</td>\n",
       "    </tr>\n",
       "    <tr>\n",
       "      <th>3</th>\n",
       "      <td>5.5.12.1</td>\n",
       "      <td>Bartow Nov 2020 General</td>\n",
       "      <td>{'TabulatorId': 530, 'BatchId': 1, 'RecordId':...</td>\n",
       "    </tr>\n",
       "    <tr>\n",
       "      <th>4</th>\n",
       "      <td>5.5.12.1</td>\n",
       "      <td>Bartow Nov 2020 General</td>\n",
       "      <td>{'TabulatorId': 530, 'BatchId': 1, 'RecordId':...</td>\n",
       "    </tr>\n",
       "  </tbody>\n",
       "</table>\n",
       "</div>"
      ],
      "text/plain": [
       "    Version               ElectionId  \\\n",
       "0  5.5.12.1  Bartow Nov 2020 General   \n",
       "1  5.5.12.1  Bartow Nov 2020 General   \n",
       "2  5.5.12.1  Bartow Nov 2020 General   \n",
       "3  5.5.12.1  Bartow Nov 2020 General   \n",
       "4  5.5.12.1  Bartow Nov 2020 General   \n",
       "\n",
       "                                            Sessions  \n",
       "0  {'TabulatorId': 530, 'BatchId': 1, 'RecordId':...  \n",
       "1  {'TabulatorId': 530, 'BatchId': 1, 'RecordId':...  \n",
       "2  {'TabulatorId': 530, 'BatchId': 1, 'RecordId':...  \n",
       "3  {'TabulatorId': 530, 'BatchId': 1, 'RecordId':...  \n",
       "4  {'TabulatorId': 530, 'BatchId': 1, 'RecordId':...  "
      ]
     },
     "execution_count": 4,
     "metadata": {},
     "output_type": "execute_result"
    }
   ],
   "source": [
    "cvr_exp.head()"
   ]
  },
  {
   "cell_type": "code",
   "execution_count": 5,
   "metadata": {},
   "outputs": [
    {
     "data": {
      "text/plain": [
       "152034"
      ]
     },
     "execution_count": 5,
     "metadata": {},
     "output_type": "execute_result"
    }
   ],
   "source": [
    "cvr_exp.size"
   ]
  },
  {
   "cell_type": "code",
   "execution_count": 6,
   "metadata": {},
   "outputs": [
    {
     "data": {
      "text/plain": [
       "0    {'TabulatorId': 530, 'BatchId': 1, 'RecordId':...\n",
       "1    {'TabulatorId': 530, 'BatchId': 1, 'RecordId':...\n",
       "2    {'TabulatorId': 530, 'BatchId': 1, 'RecordId':...\n",
       "3    {'TabulatorId': 530, 'BatchId': 1, 'RecordId':...\n",
       "4    {'TabulatorId': 530, 'BatchId': 1, 'RecordId':...\n",
       "Name: Sessions, dtype: object"
      ]
     },
     "execution_count": 6,
     "metadata": {},
     "output_type": "execute_result"
    }
   ],
   "source": [
    "cvr_sessions = cvr_exp['Sessions']\n",
    "unit_dict = cvr_sessions[0]\n",
    "cvr_sessions.head()"
   ]
  },
  {
   "cell_type": "code",
   "execution_count": 93,
   "metadata": {
    "scrolled": false
   },
   "outputs": [
    {
     "data": {
      "text/html": [
       "<div>\n",
       "<style scoped>\n",
       "    .dataframe tbody tr th:only-of-type {\n",
       "        vertical-align: middle;\n",
       "    }\n",
       "\n",
       "    .dataframe tbody tr th {\n",
       "        vertical-align: top;\n",
       "    }\n",
       "\n",
       "    .dataframe thead th {\n",
       "        text-align: right;\n",
       "    }\n",
       "</style>\n",
       "<table border=\"1\" class=\"dataframe\">\n",
       "  <thead>\n",
       "    <tr style=\"text-align: right;\">\n",
       "      <th></th>\n",
       "      <th>Id</th>\n",
       "      <th>ManifestationId</th>\n",
       "      <th>Undervotes</th>\n",
       "      <th>Overvotes</th>\n",
       "      <th>OutstackConditionIds</th>\n",
       "      <th>CandidateId</th>\n",
       "      <th>ManifestationId</th>\n",
       "      <th>PartyId</th>\n",
       "      <th>Rank</th>\n",
       "      <th>MarkDensity</th>\n",
       "      <th>IsAmbiguous</th>\n",
       "      <th>IsVote</th>\n",
       "      <th>OutstackConditionIds</th>\n",
       "    </tr>\n",
       "  </thead>\n",
       "  <tbody>\n",
       "    <tr>\n",
       "      <th>0</th>\n",
       "      <td>1</td>\n",
       "      <td>133</td>\n",
       "      <td>0</td>\n",
       "      <td>0</td>\n",
       "      <td>[]</td>\n",
       "      <td>2</td>\n",
       "      <td>766</td>\n",
       "      <td>0</td>\n",
       "      <td>1</td>\n",
       "      <td>100</td>\n",
       "      <td>False</td>\n",
       "      <td>True</td>\n",
       "      <td>[]</td>\n",
       "    </tr>\n",
       "    <tr>\n",
       "      <th>0</th>\n",
       "      <td>2</td>\n",
       "      <td>134</td>\n",
       "      <td>0</td>\n",
       "      <td>0</td>\n",
       "      <td>[]</td>\n",
       "      <td>5</td>\n",
       "      <td>770</td>\n",
       "      <td>0</td>\n",
       "      <td>1</td>\n",
       "      <td>98</td>\n",
       "      <td>False</td>\n",
       "      <td>True</td>\n",
       "      <td>[]</td>\n",
       "    </tr>\n",
       "    <tr>\n",
       "      <th>0</th>\n",
       "      <td>3</td>\n",
       "      <td>135</td>\n",
       "      <td>0</td>\n",
       "      <td>0</td>\n",
       "      <td>[]</td>\n",
       "      <td>17</td>\n",
       "      <td>783</td>\n",
       "      <td>0</td>\n",
       "      <td>1</td>\n",
       "      <td>100</td>\n",
       "      <td>False</td>\n",
       "      <td>True</td>\n",
       "      <td>[]</td>\n",
       "    </tr>\n",
       "    <tr>\n",
       "      <th>0</th>\n",
       "      <td>4</td>\n",
       "      <td>136</td>\n",
       "      <td>0</td>\n",
       "      <td>0</td>\n",
       "      <td>[]</td>\n",
       "      <td>28</td>\n",
       "      <td>795</td>\n",
       "      <td>0</td>\n",
       "      <td>1</td>\n",
       "      <td>98</td>\n",
       "      <td>False</td>\n",
       "      <td>True</td>\n",
       "      <td>[]</td>\n",
       "    </tr>\n",
       "    <tr>\n",
       "      <th>0</th>\n",
       "      <td>5</td>\n",
       "      <td>137</td>\n",
       "      <td>0</td>\n",
       "      <td>0</td>\n",
       "      <td>[]</td>\n",
       "      <td>31</td>\n",
       "      <td>799</td>\n",
       "      <td>0</td>\n",
       "      <td>1</td>\n",
       "      <td>99</td>\n",
       "      <td>False</td>\n",
       "      <td>True</td>\n",
       "      <td>[]</td>\n",
       "    </tr>\n",
       "  </tbody>\n",
       "</table>\n",
       "</div>"
      ],
      "text/plain": [
       "  Id ManifestationId Undervotes Overvotes OutstackConditionIds CandidateId  \\\n",
       "0  1             133          0         0                   []           2   \n",
       "0  2             134          0         0                   []           5   \n",
       "0  3             135          0         0                   []          17   \n",
       "0  4             136          0         0                   []          28   \n",
       "0  5             137          0         0                   []          31   \n",
       "\n",
       "  ManifestationId PartyId Rank MarkDensity IsAmbiguous IsVote  \\\n",
       "0             766       0    1         100       False   True   \n",
       "0             770       0    1          98       False   True   \n",
       "0             783       0    1         100       False   True   \n",
       "0             795       0    1          98       False   True   \n",
       "0             799       0    1          99       False   True   \n",
       "\n",
       "  OutstackConditionIds  \n",
       "0                   []  \n",
       "0                   []  \n",
       "0                   []  \n",
       "0                   []  \n",
       "0                   []  "
      ]
     },
     "execution_count": 93,
     "metadata": {},
     "output_type": "execute_result"
    }
   ],
   "source": [
    "## Iterate through all contests for one ballot\n",
    "unit_contests_df = pd.DataFrame()\n",
    "for i in range(len(unit_contests)-1):\n",
    "    contest_df = pd.DataFrame.from_dict(unit_contests[i], orient='index').drop('Marks').T\n",
    "    if not unit_contests[i]['Marks']:\n",
    "        for col in marks_df.columns:\n",
    "            marks_df[col].values[:] = 0\n",
    "    else:\n",
    "        marks_df = pd.DataFrame.from_dict(unit_contests[i]['Marks'][0], orient='index').T\n",
    "    contest_concat = pd.concat([contest_df, marks_df], axis=1, join=\"inner\")\n",
    "    unit_contests_df = unit_contests_df.append(contest_concat)\n",
    "unit_contests_df.head()"
   ]
  },
  {
   "cell_type": "code",
   "execution_count": 94,
   "metadata": {},
   "outputs": [
    {
     "data": {
      "text/html": [
       "<div>\n",
       "<style scoped>\n",
       "    .dataframe tbody tr th:only-of-type {\n",
       "        vertical-align: middle;\n",
       "    }\n",
       "\n",
       "    .dataframe tbody tr th {\n",
       "        vertical-align: top;\n",
       "    }\n",
       "\n",
       "    .dataframe thead th {\n",
       "        text-align: right;\n",
       "    }\n",
       "</style>\n",
       "<table border=\"1\" class=\"dataframe\">\n",
       "  <thead>\n",
       "    <tr style=\"text-align: right;\">\n",
       "      <th></th>\n",
       "      <th>TabulatorId</th>\n",
       "      <th>BatchId</th>\n",
       "      <th>RecordId</th>\n",
       "      <th>CountingGroupId</th>\n",
       "      <th>SessionType</th>\n",
       "      <th>PrecinctPortionId</th>\n",
       "      <th>BallotTypeId</th>\n",
       "      <th>IsCurrent</th>\n",
       "      <th>Id_x</th>\n",
       "      <th>PaperIndex</th>\n",
       "      <th>...</th>\n",
       "      <th>Overvotes</th>\n",
       "      <th>OutstackConditionIds_y</th>\n",
       "      <th>CandidateId</th>\n",
       "      <th>ManifestationId</th>\n",
       "      <th>PartyId</th>\n",
       "      <th>Rank</th>\n",
       "      <th>MarkDensity</th>\n",
       "      <th>IsAmbiguous</th>\n",
       "      <th>IsVote</th>\n",
       "      <th>OutstackConditionIds_y</th>\n",
       "    </tr>\n",
       "  </thead>\n",
       "  <tbody>\n",
       "    <tr>\n",
       "      <th>0</th>\n",
       "      <td>530</td>\n",
       "      <td>1</td>\n",
       "      <td>23</td>\n",
       "      <td>3</td>\n",
       "      <td>ScannedVote</td>\n",
       "      <td>4</td>\n",
       "      <td>4</td>\n",
       "      <td>True</td>\n",
       "      <td>21</td>\n",
       "      <td>0</td>\n",
       "      <td>...</td>\n",
       "      <td>0</td>\n",
       "      <td>[]</td>\n",
       "      <td>2</td>\n",
       "      <td>766</td>\n",
       "      <td>0</td>\n",
       "      <td>1</td>\n",
       "      <td>100</td>\n",
       "      <td>False</td>\n",
       "      <td>True</td>\n",
       "      <td>[]</td>\n",
       "    </tr>\n",
       "    <tr>\n",
       "      <th>0</th>\n",
       "      <td>530</td>\n",
       "      <td>1</td>\n",
       "      <td>23</td>\n",
       "      <td>3</td>\n",
       "      <td>ScannedVote</td>\n",
       "      <td>4</td>\n",
       "      <td>4</td>\n",
       "      <td>True</td>\n",
       "      <td>21</td>\n",
       "      <td>0</td>\n",
       "      <td>...</td>\n",
       "      <td>0</td>\n",
       "      <td>[]</td>\n",
       "      <td>5</td>\n",
       "      <td>770</td>\n",
       "      <td>0</td>\n",
       "      <td>1</td>\n",
       "      <td>98</td>\n",
       "      <td>False</td>\n",
       "      <td>True</td>\n",
       "      <td>[]</td>\n",
       "    </tr>\n",
       "    <tr>\n",
       "      <th>0</th>\n",
       "      <td>530</td>\n",
       "      <td>1</td>\n",
       "      <td>23</td>\n",
       "      <td>3</td>\n",
       "      <td>ScannedVote</td>\n",
       "      <td>4</td>\n",
       "      <td>4</td>\n",
       "      <td>True</td>\n",
       "      <td>21</td>\n",
       "      <td>0</td>\n",
       "      <td>...</td>\n",
       "      <td>0</td>\n",
       "      <td>[]</td>\n",
       "      <td>17</td>\n",
       "      <td>783</td>\n",
       "      <td>0</td>\n",
       "      <td>1</td>\n",
       "      <td>100</td>\n",
       "      <td>False</td>\n",
       "      <td>True</td>\n",
       "      <td>[]</td>\n",
       "    </tr>\n",
       "    <tr>\n",
       "      <th>0</th>\n",
       "      <td>530</td>\n",
       "      <td>1</td>\n",
       "      <td>23</td>\n",
       "      <td>3</td>\n",
       "      <td>ScannedVote</td>\n",
       "      <td>4</td>\n",
       "      <td>4</td>\n",
       "      <td>True</td>\n",
       "      <td>21</td>\n",
       "      <td>0</td>\n",
       "      <td>...</td>\n",
       "      <td>0</td>\n",
       "      <td>[]</td>\n",
       "      <td>28</td>\n",
       "      <td>795</td>\n",
       "      <td>0</td>\n",
       "      <td>1</td>\n",
       "      <td>98</td>\n",
       "      <td>False</td>\n",
       "      <td>True</td>\n",
       "      <td>[]</td>\n",
       "    </tr>\n",
       "    <tr>\n",
       "      <th>0</th>\n",
       "      <td>530</td>\n",
       "      <td>1</td>\n",
       "      <td>23</td>\n",
       "      <td>3</td>\n",
       "      <td>ScannedVote</td>\n",
       "      <td>4</td>\n",
       "      <td>4</td>\n",
       "      <td>True</td>\n",
       "      <td>21</td>\n",
       "      <td>0</td>\n",
       "      <td>...</td>\n",
       "      <td>0</td>\n",
       "      <td>[]</td>\n",
       "      <td>31</td>\n",
       "      <td>799</td>\n",
       "      <td>0</td>\n",
       "      <td>1</td>\n",
       "      <td>99</td>\n",
       "      <td>False</td>\n",
       "      <td>True</td>\n",
       "      <td>[]</td>\n",
       "    </tr>\n",
       "  </tbody>\n",
       "</table>\n",
       "<p>5 rows × 24 columns</p>\n",
       "</div>"
      ],
      "text/plain": [
       "  TabulatorId BatchId RecordId CountingGroupId  SessionType PrecinctPortionId  \\\n",
       "0         530       1       23               3  ScannedVote                 4   \n",
       "0         530       1       23               3  ScannedVote                 4   \n",
       "0         530       1       23               3  ScannedVote                 4   \n",
       "0         530       1       23               3  ScannedVote                 4   \n",
       "0         530       1       23               3  ScannedVote                 4   \n",
       "\n",
       "  BallotTypeId IsCurrent Id_x PaperIndex  ... Overvotes  \\\n",
       "0            4      True   21          0  ...         0   \n",
       "0            4      True   21          0  ...         0   \n",
       "0            4      True   21          0  ...         0   \n",
       "0            4      True   21          0  ...         0   \n",
       "0            4      True   21          0  ...         0   \n",
       "\n",
       "  OutstackConditionIds_y CandidateId ManifestationId PartyId Rank MarkDensity  \\\n",
       "0                     []           2             766       0    1         100   \n",
       "0                     []           5             770       0    1          98   \n",
       "0                     []          17             783       0    1         100   \n",
       "0                     []          28             795       0    1          98   \n",
       "0                     []          31             799       0    1          99   \n",
       "\n",
       "  IsAmbiguous IsVote OutstackConditionIds_y  \n",
       "0       False   True                     []  \n",
       "0       False   True                     []  \n",
       "0       False   True                     []  \n",
       "0       False   True                     []  \n",
       "0       False   True                     []  \n",
       "\n",
       "[5 rows x 24 columns]"
      ]
     },
     "execution_count": 94,
     "metadata": {},
     "output_type": "execute_result"
    }
   ],
   "source": [
    "## Combine both tables for the first ballot into a multiindex for all ballot info\n",
    "unit_df_complete = pd.merge(unit_df_nocontests, unit_contests_df, left_index=True, right_index=True)\n",
    "unit_df_complete.head()"
   ]
  },
  {
   "cell_type": "code",
   "execution_count": 17,
   "metadata": {},
   "outputs": [],
   "source": [
    "# cvr_df_complete = pd.DataFrame()\n",
    "# ## Compiled table for all ballot values\n",
    "# for i in cvr_sessions:\n",
    "#     ##Concat levels of index i dict keys/values\n",
    "#     unit_df_first = pd.DataFrame.from_dict(i, orient='index').drop('ImageMask').drop('VotingSessionIdentifier').drop('UniqueVotingIdentifier').drop('Original').T\n",
    "#     unit_df_second = pd.DataFrame.from_dict(i['Original'], orient='index').drop('Cards').T\n",
    "#     unit_df_2lvl = pd.concat([unit_df_first, unit_df_second], axis=1, join=\"inner\")\n",
    "#     unit_df_third = pd.DataFrame.from_dict(i['Original']['Cards'][0], orient='index').drop('Contests').T\n",
    "#     unit_df_nocontests = pd.concat([unit_df_2lvl, unit_df_third], axis=1, join=\"inner\")\n",
    "#     ## Contest list to table in unit example\n",
    "#     unit_contests = i['Original']['Cards'][0]['Contests']\n",
    "#     ## Iterate through all contests for one ballot\n",
    "#     unit_contests_df = pd.DataFrame()\n",
    "#     for j in unit_contests:\n",
    "#         contest_df = pd.DataFrame.from_dict(j, orient='index').drop('Marks').T\n",
    "#         if not j['Marks']:\n",
    "#             for col in marks_df.columns:\n",
    "#                 marks_df[col].values[:] = 0\n",
    "#         else:\n",
    "#             marks_df = pd.DataFrame.from_dict(j['Marks'][0], orient='index').T\n",
    "#         contest_concat = pd.concat([contest_df, marks_df], axis=1, join=\"inner\")\n",
    "#         ## This table will exclude write-in mark density\n",
    "#         unit_contests_df = unit_contests_df.append(contest_concat[unit_contests_df.columns])\n",
    "#     cvr_df_complete = pd.merge(unit_df_nocontests, unit_contests_df, left_index=True, right_index=True)\n",
    "# cvr_df_complete"
   ]
  },
  {
   "cell_type": "markdown",
   "metadata": {},
   "source": [
    "# Questions"
   ]
  },
  {
   "cell_type": "markdown",
   "metadata": {},
   "source": [
    "## How many people voted for both GOP US senators but made no vote at all for President?  (was it concentrated in any particular precinct?)"
   ]
  },
  {
   "cell_type": "code",
   "execution_count": 50,
   "metadata": {},
   "outputs": [
    {
     "data": {
      "text/plain": [
       "63"
      ]
     },
     "execution_count": 50,
     "metadata": {},
     "output_type": "execute_result"
    }
   ],
   "source": [
    "## Go to levels for the senate and presidential contests and count the numbers of votes for senators but no president\n",
    "## Outstack Condition 6 is code for no vote\n",
    "sen_no_pres_count = 0\n",
    "index_count = 0\n",
    "for i in cvr_sessions:\n",
    "    if not 6 in i['Original']['Cards'][0]['Contests'][1].get('OutstackConditionIds'):\n",
    "        if 6 in i['Original']['Cards'][0]['Contests'][0].get('OutstackConditionIds'):\n",
    "            sen_no_pres_count += 1\n",
    "    index_count += 1\n",
    "sen_no_pres_count"
   ]
  },
  {
   "cell_type": "markdown",
   "metadata": {},
   "source": [
    "## How many people voted for both GOP US senators but voted for Biden? (Any precinct concentration?)"
   ]
  },
  {
   "cell_type": "code",
   "execution_count": 65,
   "metadata": {},
   "outputs": [
    {
     "name": "stdout",
     "output_type": "stream",
     "text": [
      "37008 34809 241\n"
     ]
    }
   ],
   "source": [
    "gop_biden_pres_count = 0\n",
    "purdue_count = 0\n",
    "both_gop_count = 0\n",
    "for i in cvr_sessions:\n",
    "    if not 6 in i['Original']['Cards'][0]['Contests'][1].get('OutstackConditionIds'):\n",
    "        if i['Original']['Cards'][0]['Contests'][1].get('Marks')[0].get('CandidateId') == 4:\n",
    "            purdue_count += 1\n",
    "            if not 6 in i['Original']['Cards'][0]['Contests'][2].get('OutstackConditionIds'):\n",
    "                if i['Original']['Cards'][0]['Contests'][2].get('Marks')[0].get('CandidateId') in [9, 11, 24, 16, 19]:\n",
    "                    both_gop_count += 1\n",
    "                    if not 6 in i['Original']['Cards'][0]['Contests'][0].get('OutstackConditionIds'):\n",
    "                        if i['Original']['Cards'][0]['Contests'][0].get('Marks')[0].get('CandidateId') == 2:\n",
    "                            gop_biden_pres_count += 1\n",
    "print(purdue_count, both_gop_count, gop_biden_pres_count)"
   ]
  },
  {
   "cell_type": "markdown",
   "metadata": {},
   "source": [
    "## How many people split their vote between One GOP and one Dem US Senator?"
   ]
  },
  {
   "cell_type": "code",
   "execution_count": 69,
   "metadata": {},
   "outputs": [
    {
     "name": "stdout",
     "output_type": "stream",
     "text": [
      "37008 9009\n"
     ]
    }
   ],
   "source": [
    "purdue_count = 0\n",
    "dem = 0\n",
    "split_count = 0\n",
    "for i in cvr_sessions:\n",
    "    if not 6 in i['Original']['Cards'][0]['Contests'][1].get('OutstackConditionIds'):\n",
    "        if i['Original']['Cards'][0]['Contests'][1].get('Marks')[0].get('CandidateId') == 4:\n",
    "            purdue_count += 1\n",
    "        elif not 6 in i['Original']['Cards'][0]['Contests'][2].get('OutstackConditionIds'):\n",
    "            if i['Original']['Cards'][0]['Contests'][2].get('Marks')[0].get('CandidateId') in [26, 17, 18, 20, 25, 23]:\n",
    "                split_count += 1\n",
    "print(purdue_count, split_count)"
   ]
  },
  {
   "cell_type": "markdown",
   "metadata": {},
   "source": [
    "## For ballots on which the mark density on more 3 or more votes is less than 15%, how many undervotes are there? (That is related to the faulty scanning issue. Those might be votes that are not counted. )"
   ]
  },
  {
   "cell_type": "code",
   "execution_count": 90,
   "metadata": {},
   "outputs": [
    {
     "data": {
      "text/html": [
       "<div>\n",
       "<style scoped>\n",
       "    .dataframe tbody tr th:only-of-type {\n",
       "        vertical-align: middle;\n",
       "    }\n",
       "\n",
       "    .dataframe tbody tr th {\n",
       "        vertical-align: top;\n",
       "    }\n",
       "\n",
       "    .dataframe thead th {\n",
       "        text-align: right;\n",
       "    }\n",
       "</style>\n",
       "<table border=\"1\" class=\"dataframe\">\n",
       "  <thead>\n",
       "    <tr style=\"text-align: right;\">\n",
       "      <th></th>\n",
       "      <th>Under 15</th>\n",
       "      <th>Zero density</th>\n",
       "      <th>Labelled blank</th>\n",
       "      <th>No density listed</th>\n",
       "      <th>Undercount</th>\n",
       "    </tr>\n",
       "  </thead>\n",
       "  <tbody>\n",
       "    <tr>\n",
       "      <th>0</th>\n",
       "      <td>4</td>\n",
       "      <td>3</td>\n",
       "      <td>11</td>\n",
       "      <td>3</td>\n",
       "      <td>11</td>\n",
       "    </tr>\n",
       "    <tr>\n",
       "      <th>1</th>\n",
       "      <td>3</td>\n",
       "      <td>1</td>\n",
       "      <td>6</td>\n",
       "      <td>1</td>\n",
       "      <td>6</td>\n",
       "    </tr>\n",
       "    <tr>\n",
       "      <th>2</th>\n",
       "      <td>5</td>\n",
       "      <td>10</td>\n",
       "      <td>16</td>\n",
       "      <td>10</td>\n",
       "      <td>16</td>\n",
       "    </tr>\n",
       "    <tr>\n",
       "      <th>3</th>\n",
       "      <td>3</td>\n",
       "      <td>4</td>\n",
       "      <td>13</td>\n",
       "      <td>4</td>\n",
       "      <td>13</td>\n",
       "    </tr>\n",
       "    <tr>\n",
       "      <th>4</th>\n",
       "      <td>7</td>\n",
       "      <td>0</td>\n",
       "      <td>10</td>\n",
       "      <td>0</td>\n",
       "      <td>10</td>\n",
       "    </tr>\n",
       "    <tr>\n",
       "      <th>5</th>\n",
       "      <td>3</td>\n",
       "      <td>0</td>\n",
       "      <td>14</td>\n",
       "      <td>0</td>\n",
       "      <td>14</td>\n",
       "    </tr>\n",
       "    <tr>\n",
       "      <th>6</th>\n",
       "      <td>7</td>\n",
       "      <td>0</td>\n",
       "      <td>11</td>\n",
       "      <td>0</td>\n",
       "      <td>11</td>\n",
       "    </tr>\n",
       "    <tr>\n",
       "      <th>7</th>\n",
       "      <td>3</td>\n",
       "      <td>8</td>\n",
       "      <td>9</td>\n",
       "      <td>8</td>\n",
       "      <td>9</td>\n",
       "    </tr>\n",
       "    <tr>\n",
       "      <th>8</th>\n",
       "      <td>4</td>\n",
       "      <td>0</td>\n",
       "      <td>9</td>\n",
       "      <td>0</td>\n",
       "      <td>9</td>\n",
       "    </tr>\n",
       "    <tr>\n",
       "      <th>9</th>\n",
       "      <td>4</td>\n",
       "      <td>2</td>\n",
       "      <td>14</td>\n",
       "      <td>2</td>\n",
       "      <td>14</td>\n",
       "    </tr>\n",
       "    <tr>\n",
       "      <th>10</th>\n",
       "      <td>3</td>\n",
       "      <td>8</td>\n",
       "      <td>18</td>\n",
       "      <td>8</td>\n",
       "      <td>18</td>\n",
       "    </tr>\n",
       "  </tbody>\n",
       "</table>\n",
       "</div>"
      ],
      "text/plain": [
       "    Under 15  Zero density  Labelled blank  No density listed  Undercount\n",
       "0          4             3              11                  3          11\n",
       "1          3             1               6                  1           6\n",
       "2          5            10              16                 10          16\n",
       "3          3             4              13                  4          13\n",
       "4          7             0              10                  0          10\n",
       "5          3             0              14                  0          14\n",
       "6          7             0              11                  0          11\n",
       "7          3             8               9                  8           9\n",
       "8          4             0               9                  0           9\n",
       "9          4             2              14                  2          14\n",
       "10         3             8              18                  8          18"
      ]
     },
     "execution_count": 90,
     "metadata": {},
     "output_type": "execute_result"
    }
   ],
   "source": [
    "undervotes = []\n",
    "for i in cvr_sessions:\n",
    "    under_15_density = 0\n",
    "    under_count = 0\n",
    "    no_mark_category = 0\n",
    "    registered_blank = 0\n",
    "    zero_density = 0\n",
    "    for j in i['Original']['Cards'][0]['Contests']:\n",
    "        density = 0\n",
    "        if j.get('Undervotes') == 1:\n",
    "            under_count += 1\n",
    "        if j.get('Marks'):\n",
    "            density = j.get('Marks')[0].get('MarkDensity')\n",
    "        if density > 0 and density < 15:\n",
    "            under_15_density += 1\n",
    "        if density == 0:\n",
    "            zero_density += 1\n",
    "        if not j.get('Marks'):\n",
    "            no_mark_category += 1\n",
    "        if 6 in j.get('OutstackConditionIds'):\n",
    "            registered_blank += 1\n",
    "    if under_15_density >= 3:\n",
    "        undervotes.append([under_15_density, zero_density, registered_blank, no_mark_category, under_count])\n",
    "undervotes_df = pd.DataFrame(undervotes, columns=['Under 15', 'Zero density', 'Labelled blank', 'No density listed', 'Undercount'])\n",
    "undervotes_df"
   ]
  },
  {
   "cell_type": "markdown",
   "metadata": {},
   "source": [
    "## How many “Ambiguous votes” were not counted?"
   ]
  },
  {
   "cell_type": "code",
   "execution_count": 92,
   "metadata": {},
   "outputs": [
    {
     "data": {
      "text/plain": [
       "212"
      ]
     },
     "execution_count": 92,
     "metadata": {},
     "output_type": "execute_result"
    }
   ],
   "source": [
    "ambiguous_not_counted = 0\n",
    "for i in cvr_sessions:\n",
    "    for j in i['Original']['Cards'][0]['Contests']:\n",
    "        if j.get('Marks'):\n",
    "            if j.get('Marks')[0].get('IsAmbiguous'):\n",
    "                if not j.get('Marks')[0].get('IsVote'):\n",
    "                    ambiguous_not_counted += 1\n",
    "ambiguous_not_counted"
   ]
  },
  {
   "cell_type": "markdown",
   "metadata": {},
   "source": [
    "## How many overvotes were recorded?"
   ]
  },
  {
   "cell_type": "code",
   "execution_count": 91,
   "metadata": {},
   "outputs": [
    {
     "data": {
      "text/plain": [
       "192"
      ]
     },
     "execution_count": 91,
     "metadata": {},
     "output_type": "execute_result"
    }
   ],
   "source": [
    "overvotes = 0\n",
    "for i in cvr_sessions:\n",
    "    for j in i['Original']['Cards'][0]['Contests']:\n",
    "        if j.get('Overvotes') != 0:\n",
    "            overvotes += j.get('Overvotes')\n",
    "overvotes"
   ]
  },
  {
   "cell_type": "markdown",
   "metadata": {},
   "source": [
    "## Can the votes for candidate be easily tabulated?"
   ]
  },
  {
   "cell_type": "markdown",
   "metadata": {},
   "source": [
    "yes"
   ]
  },
  {
   "cell_type": "markdown",
   "metadata": {},
   "source": [
    "## Is there a scanner batch number on the CVR?"
   ]
  },
  {
   "cell_type": "markdown",
   "metadata": {},
   "source": [
    "yes"
   ]
  },
  {
   "cell_type": "code",
   "execution_count": null,
   "metadata": {},
   "outputs": [],
   "source": []
  }
 ],
 "metadata": {
  "kernelspec": {
   "display_name": "Python 3",
   "language": "python",
   "name": "python3"
  },
  "language_info": {
   "codemirror_mode": {
    "name": "ipython",
    "version": 3
   },
   "file_extension": ".py",
   "mimetype": "text/x-python",
   "name": "python",
   "nbconvert_exporter": "python",
   "pygments_lexer": "ipython3",
   "version": "3.8.3"
  }
 },
 "nbformat": 4,
 "nbformat_minor": 4
}
